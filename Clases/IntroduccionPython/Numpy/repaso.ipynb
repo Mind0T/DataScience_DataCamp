{
 "cells": [
  {
   "cell_type": "code",
   "execution_count": 22,
   "id": "c986f1b1",
   "metadata": {},
   "outputs": [],
   "source": [
    "import pandas as pd\n",
    "import numpy as np\n"
   ]
  },
  {
   "cell_type": "code",
   "execution_count": 23,
   "id": "7caa3d8b",
   "metadata": {},
   "outputs": [],
   "source": [
    "altura=np.round(np.random.normal(1.70,.15,5000),2)\n",
    "peso=np.round(np.random.normal(65,20,5000),2)\n",
    "edad=np.round(np.random.normal(35,6,5000))"
   ]
  },
  {
   "cell_type": "code",
   "execution_count": null,
   "id": "dd55530b",
   "metadata": {},
   "outputs": [
    {
     "name": "stdout",
     "output_type": "stream",
     "text": [
      "[[ 1.52 65.91 29.  ]\n",
      " [ 1.57 55.82 30.  ]\n",
      " [ 1.9  71.66 35.  ]\n",
      " ...\n",
      " [ 1.68 15.88 40.  ]\n",
      " [ 1.7  61.21 30.  ]\n",
      " [ 1.85 60.26 41.  ]]\n"
     ]
    }
   ],
   "source": [
    "personas_tallas=np.column_stack((altura,peso,edad))\n",
    "print(personas_tallas)\n",
    "# aqui hago un apilado de arrays "
   ]
  },
  {
   "cell_type": "code",
   "execution_count": null,
   "id": "019f79d3",
   "metadata": {},
   "outputs": [
    {
     "data": {
      "text/html": [
       "<div>\n",
       "<style scoped>\n",
       "    .dataframe tbody tr th:only-of-type {\n",
       "        vertical-align: middle;\n",
       "    }\n",
       "\n",
       "    .dataframe tbody tr th {\n",
       "        vertical-align: top;\n",
       "    }\n",
       "\n",
       "    .dataframe thead th {\n",
       "        text-align: right;\n",
       "    }\n",
       "</style>\n",
       "<table border=\"1\" class=\"dataframe\">\n",
       "  <thead>\n",
       "    <tr style=\"text-align: right;\">\n",
       "      <th></th>\n",
       "      <th>Altura</th>\n",
       "      <th>Peso</th>\n",
       "      <th>Edad</th>\n",
       "    </tr>\n",
       "  </thead>\n",
       "  <tbody>\n",
       "    <tr>\n",
       "      <th>0</th>\n",
       "      <td>1.52</td>\n",
       "      <td>65.91</td>\n",
       "      <td>29.0</td>\n",
       "    </tr>\n",
       "    <tr>\n",
       "      <th>1</th>\n",
       "      <td>1.57</td>\n",
       "      <td>55.82</td>\n",
       "      <td>30.0</td>\n",
       "    </tr>\n",
       "    <tr>\n",
       "      <th>2</th>\n",
       "      <td>1.90</td>\n",
       "      <td>71.66</td>\n",
       "      <td>35.0</td>\n",
       "    </tr>\n",
       "    <tr>\n",
       "      <th>3</th>\n",
       "      <td>1.97</td>\n",
       "      <td>72.81</td>\n",
       "      <td>29.0</td>\n",
       "    </tr>\n",
       "    <tr>\n",
       "      <th>4</th>\n",
       "      <td>1.77</td>\n",
       "      <td>19.11</td>\n",
       "      <td>40.0</td>\n",
       "    </tr>\n",
       "  </tbody>\n",
       "</table>\n",
       "</div>"
      ],
      "text/plain": [
       "   Altura   Peso  Edad\n",
       "0    1.52  65.91  29.0\n",
       "1    1.57  55.82  30.0\n",
       "2    1.90  71.66  35.0\n",
       "3    1.97  72.81  29.0\n",
       "4    1.77  19.11  40.0"
      ]
     },
     "execution_count": 25,
     "metadata": {},
     "output_type": "execute_result"
    }
   ],
   "source": [
    "df=pd.DataFrame({\n",
    "    \"Altura\":altura,\n",
    "    \"Peso\":peso,\n",
    "    \"Edad\":edad\n",
    "})\n",
    "df.head()\n",
    "# Una forma de hacer un DF con mis variables generadas aleatoriamente"
   ]
  },
  {
   "cell_type": "code",
   "execution_count": null,
   "id": "eef0a2a2",
   "metadata": {},
   "outputs": [
    {
     "data": {
      "text/html": [
       "<div>\n",
       "<style scoped>\n",
       "    .dataframe tbody tr th:only-of-type {\n",
       "        vertical-align: middle;\n",
       "    }\n",
       "\n",
       "    .dataframe tbody tr th {\n",
       "        vertical-align: top;\n",
       "    }\n",
       "\n",
       "    .dataframe thead th {\n",
       "        text-align: right;\n",
       "    }\n",
       "</style>\n",
       "<table border=\"1\" class=\"dataframe\">\n",
       "  <thead>\n",
       "    <tr style=\"text-align: right;\">\n",
       "      <th></th>\n",
       "      <th>Altura</th>\n",
       "      <th>Peso</th>\n",
       "      <th>Edad</th>\n",
       "    </tr>\n",
       "  </thead>\n",
       "  <tbody>\n",
       "    <tr>\n",
       "      <th>0</th>\n",
       "      <td>1.52</td>\n",
       "      <td>65.91</td>\n",
       "      <td>29.0</td>\n",
       "    </tr>\n",
       "    <tr>\n",
       "      <th>1</th>\n",
       "      <td>1.57</td>\n",
       "      <td>55.82</td>\n",
       "      <td>30.0</td>\n",
       "    </tr>\n",
       "    <tr>\n",
       "      <th>2</th>\n",
       "      <td>1.90</td>\n",
       "      <td>71.66</td>\n",
       "      <td>35.0</td>\n",
       "    </tr>\n",
       "    <tr>\n",
       "      <th>3</th>\n",
       "      <td>1.97</td>\n",
       "      <td>72.81</td>\n",
       "      <td>29.0</td>\n",
       "    </tr>\n",
       "    <tr>\n",
       "      <th>4</th>\n",
       "      <td>1.77</td>\n",
       "      <td>19.11</td>\n",
       "      <td>40.0</td>\n",
       "    </tr>\n",
       "  </tbody>\n",
       "</table>\n",
       "</div>"
      ],
      "text/plain": [
       "   Altura   Peso  Edad\n",
       "0    1.52  65.91  29.0\n",
       "1    1.57  55.82  30.0\n",
       "2    1.90  71.66  35.0\n",
       "3    1.97  72.81  29.0\n",
       "4    1.77  19.11  40.0"
      ]
     },
     "execution_count": 26,
     "metadata": {},
     "output_type": "execute_result"
    }
   ],
   "source": [
    "df2=pd.DataFrame(personas_tallas, columns=(\"Altura\",\"Peso\",\"Edad\"))\n",
    "df2.head()\n",
    "#otra forma de hacer un DF a partir del apilado de arrays "
   ]
  },
  {
   "cell_type": "code",
   "execution_count": null,
   "id": "ea202a08",
   "metadata": {},
   "outputs": [
    {
     "name": "stdout",
     "output_type": "stream",
     "text": [
      "El promedio de la altura es de: 1.7\n"
     ]
    }
   ],
   "source": [
    "#Calculo el promedio de la altura\n",
    "media_altura=np.round(np.mean(personas_tallas[:,0]),2)\n",
    "print(f\"El promedio de la altura es de: {media_altura}\")\n"
   ]
  },
  {
   "cell_type": "code",
   "execution_count": null,
   "id": "1060d668",
   "metadata": {},
   "outputs": [
    {
     "name": "stdout",
     "output_type": "stream",
     "text": [
      "La mediana del peso es de: 64.07\n"
     ]
    }
   ],
   "source": [
    "#Obtengo la mediana del peso\n",
    "mediana_peso=np.round(np.median(personas_tallas[:,1]),2)\n",
    "print(f\"La mediana del peso es de: {mediana_peso}\")"
   ]
  },
  {
   "cell_type": "code",
   "execution_count": 32,
   "id": "1670548a",
   "metadata": {},
   "outputs": [
    {
     "name": "stdout",
     "output_type": "stream",
     "text": [
      "La desviacion estandar es: 24.406774105199197\n"
     ]
    }
   ],
   "source": [
    "#Calculo la desviacion estandar de la edad\n",
    "dvst_edad=np.std(personas_tallas[:2])\n",
    "print(f\"La desviacion estandar es: {dvst_edad}\")"
   ]
  },
  {
   "cell_type": "code",
   "execution_count": 36,
   "id": "9fff1beb",
   "metadata": {},
   "outputs": [
    {
     "name": "stdout",
     "output_type": "stream",
     "text": [
      "La correlacion entre altura y peso es de [[ 1.         -0.00105831]\n",
      " [-0.00105831  1.        ]]\n"
     ]
    }
   ],
   "source": [
    "#Calculo la correlacion entre altura y peso\n",
    "coef_corre=np.corrcoef(personas_tallas[:,0],personas_tallas[:,1])\n",
    "print(f\"La correlacion entre altura y peso es de {coef_corre}\")"
   ]
  }
 ],
 "metadata": {
  "kernelspec": {
   "display_name": "Python 3",
   "language": "python",
   "name": "python3"
  },
  "language_info": {
   "codemirror_mode": {
    "name": "ipython",
    "version": 3
   },
   "file_extension": ".py",
   "mimetype": "text/x-python",
   "name": "python",
   "nbconvert_exporter": "python",
   "pygments_lexer": "ipython3",
   "version": "3.10.6"
  }
 },
 "nbformat": 4,
 "nbformat_minor": 5
}
