{
 "cells": [
  {
   "cell_type": "code",
   "execution_count": 2,
   "id": "c986f1b1",
   "metadata": {},
   "outputs": [],
   "source": [
    "import pandas as pd\n",
    "import numpy as np\n"
   ]
  },
  {
   "cell_type": "code",
   "execution_count": 3,
   "id": "7caa3d8b",
   "metadata": {},
   "outputs": [],
   "source": [
    "altura=np.round(np.random.normal(1.70,.15,5000),2)\n",
    "peso=np.round(np.random.normal(65,20,5000),2)\n",
    "edad=np.round(np.random.normal(35,6,5000))"
   ]
  },
  {
   "cell_type": "code",
   "execution_count": 4,
   "id": "dd55530b",
   "metadata": {},
   "outputs": [
    {
     "name": "stdout",
     "output_type": "stream",
     "text": [
      "[[ 1.71 66.6  27.  ]\n",
      " [ 1.66 62.75 34.  ]\n",
      " [ 1.86 38.57 42.  ]\n",
      " ...\n",
      " [ 1.83 68.8  31.  ]\n",
      " [ 1.64  8.38 35.  ]\n",
      " [ 1.83 36.09 43.  ]]\n"
     ]
    }
   ],
   "source": [
    "personas_tallas=np.column_stack((altura,peso,edad))\n",
    "print(personas_tallas)\n",
    "# aqui hago un apilado de arrays "
   ]
  },
  {
   "cell_type": "code",
   "execution_count": 5,
   "id": "019f79d3",
   "metadata": {},
   "outputs": [
    {
     "data": {
      "text/html": [
       "<div>\n",
       "<style scoped>\n",
       "    .dataframe tbody tr th:only-of-type {\n",
       "        vertical-align: middle;\n",
       "    }\n",
       "\n",
       "    .dataframe tbody tr th {\n",
       "        vertical-align: top;\n",
       "    }\n",
       "\n",
       "    .dataframe thead th {\n",
       "        text-align: right;\n",
       "    }\n",
       "</style>\n",
       "<table border=\"1\" class=\"dataframe\">\n",
       "  <thead>\n",
       "    <tr style=\"text-align: right;\">\n",
       "      <th></th>\n",
       "      <th>Altura</th>\n",
       "      <th>Peso</th>\n",
       "      <th>Edad</th>\n",
       "    </tr>\n",
       "  </thead>\n",
       "  <tbody>\n",
       "    <tr>\n",
       "      <th>0</th>\n",
       "      <td>1.71</td>\n",
       "      <td>66.60</td>\n",
       "      <td>27.0</td>\n",
       "    </tr>\n",
       "    <tr>\n",
       "      <th>1</th>\n",
       "      <td>1.66</td>\n",
       "      <td>62.75</td>\n",
       "      <td>34.0</td>\n",
       "    </tr>\n",
       "    <tr>\n",
       "      <th>2</th>\n",
       "      <td>1.86</td>\n",
       "      <td>38.57</td>\n",
       "      <td>42.0</td>\n",
       "    </tr>\n",
       "    <tr>\n",
       "      <th>3</th>\n",
       "      <td>1.99</td>\n",
       "      <td>71.43</td>\n",
       "      <td>34.0</td>\n",
       "    </tr>\n",
       "    <tr>\n",
       "      <th>4</th>\n",
       "      <td>1.50</td>\n",
       "      <td>56.88</td>\n",
       "      <td>44.0</td>\n",
       "    </tr>\n",
       "  </tbody>\n",
       "</table>\n",
       "</div>"
      ],
      "text/plain": [
       "   Altura   Peso  Edad\n",
       "0    1.71  66.60  27.0\n",
       "1    1.66  62.75  34.0\n",
       "2    1.86  38.57  42.0\n",
       "3    1.99  71.43  34.0\n",
       "4    1.50  56.88  44.0"
      ]
     },
     "execution_count": 5,
     "metadata": {},
     "output_type": "execute_result"
    }
   ],
   "source": [
    "df=pd.DataFrame({\n",
    "    \"Altura\":altura,\n",
    "    \"Peso\":peso,\n",
    "    \"Edad\":edad\n",
    "})\n",
    "df.head()\n",
    "# Una forma de hacer un DF con mis variables generadas aleatoriamente"
   ]
  },
  {
   "cell_type": "code",
   "execution_count": 6,
   "id": "eef0a2a2",
   "metadata": {},
   "outputs": [
    {
     "data": {
      "text/html": [
       "<div>\n",
       "<style scoped>\n",
       "    .dataframe tbody tr th:only-of-type {\n",
       "        vertical-align: middle;\n",
       "    }\n",
       "\n",
       "    .dataframe tbody tr th {\n",
       "        vertical-align: top;\n",
       "    }\n",
       "\n",
       "    .dataframe thead th {\n",
       "        text-align: right;\n",
       "    }\n",
       "</style>\n",
       "<table border=\"1\" class=\"dataframe\">\n",
       "  <thead>\n",
       "    <tr style=\"text-align: right;\">\n",
       "      <th></th>\n",
       "      <th>Altura</th>\n",
       "      <th>Peso</th>\n",
       "      <th>Edad</th>\n",
       "    </tr>\n",
       "  </thead>\n",
       "  <tbody>\n",
       "    <tr>\n",
       "      <th>0</th>\n",
       "      <td>1.71</td>\n",
       "      <td>66.60</td>\n",
       "      <td>27.0</td>\n",
       "    </tr>\n",
       "    <tr>\n",
       "      <th>1</th>\n",
       "      <td>1.66</td>\n",
       "      <td>62.75</td>\n",
       "      <td>34.0</td>\n",
       "    </tr>\n",
       "    <tr>\n",
       "      <th>2</th>\n",
       "      <td>1.86</td>\n",
       "      <td>38.57</td>\n",
       "      <td>42.0</td>\n",
       "    </tr>\n",
       "    <tr>\n",
       "      <th>3</th>\n",
       "      <td>1.99</td>\n",
       "      <td>71.43</td>\n",
       "      <td>34.0</td>\n",
       "    </tr>\n",
       "    <tr>\n",
       "      <th>4</th>\n",
       "      <td>1.50</td>\n",
       "      <td>56.88</td>\n",
       "      <td>44.0</td>\n",
       "    </tr>\n",
       "  </tbody>\n",
       "</table>\n",
       "</div>"
      ],
      "text/plain": [
       "   Altura   Peso  Edad\n",
       "0    1.71  66.60  27.0\n",
       "1    1.66  62.75  34.0\n",
       "2    1.86  38.57  42.0\n",
       "3    1.99  71.43  34.0\n",
       "4    1.50  56.88  44.0"
      ]
     },
     "execution_count": 6,
     "metadata": {},
     "output_type": "execute_result"
    }
   ],
   "source": [
    "df2=pd.DataFrame(personas_tallas, columns=(\"Altura\",\"Peso\",\"Edad\"))\n",
    "df2.head()\n",
    "#otra forma de hacer un DF a partir del apilado de arrays "
   ]
  },
  {
   "cell_type": "code",
   "execution_count": 7,
   "id": "ea202a08",
   "metadata": {},
   "outputs": [
    {
     "name": "stdout",
     "output_type": "stream",
     "text": [
      "El promedio de la altura es de: 1.7\n"
     ]
    }
   ],
   "source": [
    "#Calculo el promedio de la altura\n",
    "media_altura=np.round(np.mean(personas_tallas[:,0]),2)\n",
    "print(f\"El promedio de la altura es de: {media_altura}\")\n"
   ]
  },
  {
   "cell_type": "code",
   "execution_count": 8,
   "id": "1060d668",
   "metadata": {},
   "outputs": [
    {
     "name": "stdout",
     "output_type": "stream",
     "text": [
      "La mediana del peso es de: 65.6\n"
     ]
    }
   ],
   "source": [
    "#Obtengo la mediana del peso\n",
    "mediana_peso=np.round(np.median(personas_tallas[:,1]),2)\n",
    "print(f\"La mediana del peso es de: {mediana_peso}\")"
   ]
  },
  {
   "cell_type": "code",
   "execution_count": 9,
   "id": "1670548a",
   "metadata": {},
   "outputs": [
    {
     "name": "stdout",
     "output_type": "stream",
     "text": [
      "La desviacion estandar es: 6.045642715212337\n"
     ]
    }
   ],
   "source": [
    "#Calculo la desviacion estandar de la edad\n",
    "dvst_edad=np.std(personas_tallas[:,2])\n",
    "print(f\"La desviacion estandar es: {dvst_edad}\")"
   ]
  },
  {
   "cell_type": "code",
   "execution_count": 10,
   "id": "9fff1beb",
   "metadata": {},
   "outputs": [
    {
     "name": "stdout",
     "output_type": "stream",
     "text": [
      "La correlacion entre altura y peso es de [[ 1.         -0.02419972]\n",
      " [-0.02419972  1.        ]]\n"
     ]
    }
   ],
   "source": [
    "#Calculo la correlacion entre altura y peso\n",
    "coef_corre=np.corrcoef(personas_tallas[:,0],personas_tallas[:,1])\n",
    "print(f\"La correlacion entre altura y peso es de {coef_corre}\")"
   ]
  },
  {
   "cell_type": "code",
   "execution_count": 11,
   "id": "548a6d89",
   "metadata": {},
   "outputs": [
    {
     "data": {
      "text/html": [
       "<div>\n",
       "<style scoped>\n",
       "    .dataframe tbody tr th:only-of-type {\n",
       "        vertical-align: middle;\n",
       "    }\n",
       "\n",
       "    .dataframe tbody tr th {\n",
       "        vertical-align: top;\n",
       "    }\n",
       "\n",
       "    .dataframe thead th {\n",
       "        text-align: right;\n",
       "    }\n",
       "</style>\n",
       "<table border=\"1\" class=\"dataframe\">\n",
       "  <thead>\n",
       "    <tr style=\"text-align: right;\">\n",
       "      <th></th>\n",
       "      <th>Altura</th>\n",
       "      <th>Peso</th>\n",
       "      <th>Edad</th>\n",
       "    </tr>\n",
       "  </thead>\n",
       "  <tbody>\n",
       "    <tr>\n",
       "      <th>count</th>\n",
       "      <td>5000.000000</td>\n",
       "      <td>5000.000000</td>\n",
       "      <td>5000.000000</td>\n",
       "    </tr>\n",
       "    <tr>\n",
       "      <th>mean</th>\n",
       "      <td>1.700488</td>\n",
       "      <td>65.356672</td>\n",
       "      <td>34.869600</td>\n",
       "    </tr>\n",
       "    <tr>\n",
       "      <th>std</th>\n",
       "      <td>0.149640</td>\n",
       "      <td>20.146722</td>\n",
       "      <td>6.046247</td>\n",
       "    </tr>\n",
       "    <tr>\n",
       "      <th>min</th>\n",
       "      <td>1.130000</td>\n",
       "      <td>0.250000</td>\n",
       "      <td>12.000000</td>\n",
       "    </tr>\n",
       "    <tr>\n",
       "      <th>25%</th>\n",
       "      <td>1.600000</td>\n",
       "      <td>51.990000</td>\n",
       "      <td>31.000000</td>\n",
       "    </tr>\n",
       "    <tr>\n",
       "      <th>50%</th>\n",
       "      <td>1.700000</td>\n",
       "      <td>65.600000</td>\n",
       "      <td>35.000000</td>\n",
       "    </tr>\n",
       "    <tr>\n",
       "      <th>75%</th>\n",
       "      <td>1.800000</td>\n",
       "      <td>78.687500</td>\n",
       "      <td>39.000000</td>\n",
       "    </tr>\n",
       "    <tr>\n",
       "      <th>max</th>\n",
       "      <td>2.210000</td>\n",
       "      <td>135.230000</td>\n",
       "      <td>59.000000</td>\n",
       "    </tr>\n",
       "  </tbody>\n",
       "</table>\n",
       "</div>"
      ],
      "text/plain": [
       "            Altura         Peso         Edad\n",
       "count  5000.000000  5000.000000  5000.000000\n",
       "mean      1.700488    65.356672    34.869600\n",
       "std       0.149640    20.146722     6.046247\n",
       "min       1.130000     0.250000    12.000000\n",
       "25%       1.600000    51.990000    31.000000\n",
       "50%       1.700000    65.600000    35.000000\n",
       "75%       1.800000    78.687500    39.000000\n",
       "max       2.210000   135.230000    59.000000"
      ]
     },
     "execution_count": 11,
     "metadata": {},
     "output_type": "execute_result"
    }
   ],
   "source": [
    "df.describe()"
   ]
  },
  {
   "cell_type": "code",
   "execution_count": 23,
   "id": "41783101",
   "metadata": {},
   "outputs": [
    {
     "data": {
      "text/plain": [
       "<Axes: >"
      ]
     },
     "execution_count": 23,
     "metadata": {},
     "output_type": "execute_result"
    },
    {
     "data": {
      "image/png": "[encoded data removed]",
      "text/plain": [
       "<Figure size 1000x700 with 2 Axes>"
      ]
     },
     "metadata": {},
     "output_type": "display_data"
    }
   ],
   "source": [
    "import seaborn as sb\n",
    "sb.set(rc={\"figure.figsize\":(10,7)})\n",
    "sb.heatmap(df.corr(),annot=True,cmap=\"YlGnBu\")"
   ]
  }
 ],
 "metadata": {
  "kernelspec": {
   "display_name": "Python 3",
   "language": "python",
   "name": "python3"
  },
  "language_info": {
   "codemirror_mode": {
    "name": "ipython",
    "version": 3
   },
   "file_extension": ".py",
   "mimetype": "text/x-python",
   "name": "python",
   "nbconvert_exporter": "python",
   "pygments_lexer": "ipython3",
   "version": "3.10.6"
  }
 },
 "nbformat": 4,
 "nbformat_minor": 5
}
