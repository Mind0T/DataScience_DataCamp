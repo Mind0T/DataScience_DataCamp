{
 "cells": [
  {
   "cell_type": "code",
   "execution_count": 2,
   "id": "f3bbac42",
   "metadata": {},
   "outputs": [],
   "source": [
    "import numpy as np #importar mi libreria de numpy\n",
    "    \n",
    "#ademas de las funciones abajo estan sum(), sort()"
   ]
  },
  {
   "cell_type": "code",
   "execution_count": 3,
   "id": "2931d28a",
   "metadata": {},
   "outputs": [],
   "source": [
    "#Genero los valores aleatorios de peso y altura\n",
    "altura=np.round(np.random.normal(1.75,.2,5000),2)\n",
    "peso=np.round(np.random.normal(64,20,5000),2)\n",
    "edad=np.round(np.random.normal(30,4,5000))"
   ]
  },
  {
   "cell_type": "code",
   "execution_count": 4,
   "id": "c55a5c6f",
   "metadata": {},
   "outputs": [],
   "source": [
    "personas_talla_peso=np.column_stack((altura,peso,edad))"
   ]
  },
  {
   "cell_type": "code",
   "execution_count": 15,
   "id": "d22e0019",
   "metadata": {},
   "outputs": [
    {
     "name": "stdout",
     "output_type": "stream",
     "text": [
      "[ 1.52 51.13 31.  ]\n"
     ]
    }
   ],
   "source": [
    "print(personas_talla_peso[:][1])"
   ]
  },
  {
   "cell_type": "code",
   "execution_count": 17,
   "id": "9cb46fc9",
   "metadata": {},
   "outputs": [
    {
     "name": "stdout",
     "output_type": "stream",
     "text": [
      "El promedio de la altura es: 1.75\n"
     ]
    }
   ],
   "source": [
    "promedio_altura=np.round(np.mean(personas_talla_peso[:,0]),2)\n",
    "print(f\"El promedio de la altura es: {promedio_altura}\")"
   ]
  },
  {
   "cell_type": "code",
   "execution_count": 19,
   "id": "ea49706c",
   "metadata": {},
   "outputs": [
    {
     "name": "stdout",
     "output_type": "stream",
     "text": [
      "La media de la altura es: 1.75\n"
     ]
    }
   ],
   "source": [
    "mediana_altura=np.median(personas_talla_peso[:,0])\n",
    "print(f\"La media de la altura es: {mediana_altura}\")"
   ]
  },
  {
   "cell_type": "code",
   "execution_count": 8,
   "id": "1c8daa32",
   "metadata": {},
   "outputs": [
    {
     "name": "stdout",
     "output_type": "stream",
     "text": [
      "El promedion de la edad es de : 29.8998\n"
     ]
    }
   ],
   "source": [
    "promedio_edad=np.mean(personas_talla_peso[:,2])\n",
    "print(f\"El promedion de la edad es de : {promedio_edad}\")"
   ]
  },
  {
   "cell_type": "code",
   "execution_count": 9,
   "id": "8476735d",
   "metadata": {},
   "outputs": [
    {
     "name": "stdout",
     "output_type": "stream",
     "text": [
      "La mediana de a la edad es 30.0\n"
     ]
    }
   ],
   "source": [
    "mediana_edad=np.median(personas_talla_peso[:,2])\n",
    "print(f\"La mediana de a la edad es {mediana_edad}\")"
   ]
  },
  {
   "cell_type": "code",
   "execution_count": 10,
   "id": "f28273f6",
   "metadata": {},
   "outputs": [
    {
     "name": "stdout",
     "output_type": "stream",
     "text": [
      "El promedio del peso es: 63.917124\n"
     ]
    }
   ],
   "source": [
    "promedio_peso=np.mean(personas_talla_peso[:,1])\n",
    "print(f\"El promedio del peso es: {promedio_peso}\")"
   ]
  },
  {
   "cell_type": "code",
   "execution_count": 11,
   "id": "4d694e22",
   "metadata": {},
   "outputs": [
    {
     "name": "stdout",
     "output_type": "stream",
     "text": [
      "La media del peso es: 63.83\n"
     ]
    }
   ],
   "source": [
    "media_peso=np.median(personas_talla_peso[:,1])\n",
    "print(f\"La media del peso es: {media_peso}\")"
   ]
  },
  {
   "cell_type": "code",
   "execution_count": 12,
   "id": "5a4fd94a",
   "metadata": {},
   "outputs": [
    {
     "name": "stdout",
     "output_type": "stream",
     "text": [
      "Desviacion estandar de peso 0.2007059660199467\n"
     ]
    }
   ],
   "source": [
    "desviacion_altura=np.std(personas_talla_peso[:,0])\n",
    "print(f\"Desviacion estandar de peso {desviacion_altura}\")"
   ]
  },
  {
   "cell_type": "code",
   "execution_count": 13,
   "id": "27edcccd",
   "metadata": {},
   "outputs": [
    {
     "name": "stdout",
     "output_type": "stream",
     "text": [
      "Desviacion estandar de peso 20.239658754253345\n"
     ]
    }
   ],
   "source": [
    "desviacion_peso=np.std(personas_talla_peso[:,1])\n",
    "print(f\"Desviacion estandar de peso {desviacion_peso}\")"
   ]
  },
  {
   "cell_type": "code",
   "execution_count": 14,
   "id": "be176e73",
   "metadata": {},
   "outputs": [
    {
     "name": "stdout",
     "output_type": "stream",
     "text": [
      "El coeficiete de correlacion de las variables altura y peso es de: [[ 1.         -0.01602513]\n",
      " [-0.01602513  1.        ]]\n"
     ]
    }
   ],
   "source": [
    "coef_corr=np.corrcoef(personas_talla_peso[:,0],personas_talla_peso[:,1])\n",
    "print(f\"El coeficiete de correlacion de las variables altura y peso es de: {coef_corr}\")"
   ]
  }
 ],
 "metadata": {
  "kernelspec": {
   "display_name": "Python 3",
   "language": "python",
   "name": "python3"
  },
  "language_info": {
   "codemirror_mode": {
    "name": "ipython",
    "version": 3
   },
   "file_extension": ".py",
   "mimetype": "text/x-python",
   "name": "python",
   "nbconvert_exporter": "python",
   "pygments_lexer": "ipython3",
   "version": "3.10.6"
  }
 },
 "nbformat": 4,
 "nbformat_minor": 5
}
