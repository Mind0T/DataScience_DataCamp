{
 "cells": [
  {
   "cell_type": "markdown",
   "id": "ae2060ca",
   "metadata": {},
   "source": [
    "## **Arrays 2D y for**"
   ]
  },
  {
   "cell_type": "code",
   "execution_count": 3,
   "id": "fdf58a7f",
   "metadata": {},
   "outputs": [],
   "source": [
    "import numpy as np\n",
    "np_altura=np.array([1.72,1.68,1.71,1.89,1.79])\n",
    "np_peso=np.array([84.4,59.2,63.6,88.4,68.7])\n",
    "\n",
    "meas=np.array([np_altura,np_peso])\n"
   ]
  },
  {
   "cell_type": "code",
   "execution_count": 4,
   "id": "2e7efa87",
   "metadata": {},
   "outputs": [
    {
     "name": "stdout",
     "output_type": "stream",
     "text": [
      "1.72\n",
      "1.68\n",
      "1.71\n",
      "1.89\n",
      "1.79\n",
      "84.4\n",
      "59.2\n",
      "63.6\n",
      "88.4\n",
      "68.7\n"
     ]
    }
   ],
   "source": [
    "#!Como lo imprimiria yo \n",
    "for x in meas:\n",
    "    for y in x:\n",
    "        print(y)"
   ]
  },
  {
   "cell_type": "code",
   "execution_count": null,
   "id": "ce453d81",
   "metadata": {},
   "outputs": [
    {
     "name": "stdout",
     "output_type": "stream",
     "text": [
      "1.72\n",
      "1.68\n",
      "1.71\n",
      "1.89\n",
      "1.79\n",
      "84.4\n",
      "59.2\n",
      "63.6\n",
      "88.4\n",
      "68.7\n"
     ]
    }
   ],
   "source": [
    "##COMO APRENDI EN DATA DAMP con np.diter()\n",
    "for x in np.nditer(meas):\n",
    "    print(x)"
   ]
  },
  {
   "cell_type": "code",
   "execution_count": null,
   "id": "6e41c1c1",
   "metadata": {},
   "outputs": [],
   "source": []
  }
 ],
 "metadata": {
  "kernelspec": {
   "display_name": "Python 3",
   "language": "python",
   "name": "python3"
  },
  "language_info": {
   "codemirror_mode": {
    "name": "ipython",
    "version": 3
   },
   "file_extension": ".py",
   "mimetype": "text/x-python",
   "name": "python",
   "nbconvert_exporter": "python",
   "pygments_lexer": "ipython3",
   "version": "3.10.6"
  }
 },
 "nbformat": 4,
 "nbformat_minor": 5
}
