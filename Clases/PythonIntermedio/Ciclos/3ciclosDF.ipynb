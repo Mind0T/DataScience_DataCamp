{
 "cells": [
  {
   "cell_type": "markdown",
   "id": "65074d1d",
   "metadata": {},
   "source": [
    "## **Ciclos en DF**"
   ]
  },
  {
   "cell_type": "markdown",
   "id": "cdef754b",
   "metadata": {},
   "source": [
    "### **iterrows es nuevo**"
   ]
  },
  {
   "cell_type": "markdown",
   "id": "85eb7345",
   "metadata": {},
   "source": [
    "Esta interesante para iterear sobre Data Frames"
   ]
  },
  {
   "cell_type": "code",
   "execution_count": 4,
   "id": "5bdf762b",
   "metadata": {},
   "outputs": [],
   "source": [
    "import pandas as pd\n",
    "brics=pd.read_csv(\"base.csv\",index_col=0)"
   ]
  },
  {
   "cell_type": "code",
   "execution_count": 5,
   "id": "72422366",
   "metadata": {},
   "outputs": [
    {
     "name": "stdout",
     "output_type": "stream",
     "text": [
      "BR\n",
      "country         Brazil\n",
      "capital       Brasilia\n",
      "area             8.516\n",
      "population       200.4\n",
      "Name: BR, dtype: object\n",
      "RU\n",
      "country       Russia\n",
      "capital       Moscow\n",
      "area            17.1\n",
      "population     143.5\n",
      "Name: RU, dtype: object\n",
      "IN\n",
      "country           India\n",
      "capital       New Delhi\n",
      "area              3.286\n",
      "population       1252.0\n",
      "Name: IN, dtype: object\n",
      "CH\n",
      "country         China\n",
      "capital       Beijing\n",
      "area            9.597\n",
      "population     1357.0\n",
      "Name: CH, dtype: object\n",
      "SA\n",
      "country       South Africa\n",
      "capital           Pretoria\n",
      "area                 1.221\n",
      "population           52.98\n",
      "Name: SA, dtype: object\n"
     ]
    }
   ],
   "source": [
    "for lab, row in brics.iterrows():\n",
    "    print(lab)\n",
    "    print(row)"
   ]
  },
  {
   "cell_type": "code",
   "execution_count": 7,
   "id": "ef124cb0",
   "metadata": {},
   "outputs": [
    {
     "name": "stdout",
     "output_type": "stream",
     "text": [
      "BR : Brasilia\n",
      "RU : Moscow\n",
      "IN : New Delhi\n",
      "CH : Beijing\n",
      "SA : Pretoria\n"
     ]
    }
   ],
   "source": [
    "for lab, row in brics.iterrows():\n",
    "    print(f\"{lab} : {row['capital']}\")"
   ]
  },
  {
   "cell_type": "code",
   "execution_count": null,
   "id": "2ed4c3a2",
   "metadata": {},
   "outputs": [],
   "source": [
    "for lab, row in brics.iterrows():\n",
    "    brics.loc[lab,\"name_length\"]=len(row[\"country\"])  # un ejemlo de como puedo agregar una columna nuevo cor for"
   ]
  },
  {
   "cell_type": "code",
   "execution_count": null,
   "id": "ab3e78b2",
   "metadata": {},
   "outputs": [
    {
     "name": "stdout",
     "output_type": "stream",
     "text": [
      "         country    capital    area  population  name_length\n",
      "BR        Brazil   Brasilia   8.516      200.40          6.0\n",
      "RU        Russia     Moscow  17.100      143.50          6.0\n",
      "IN         India  New Delhi   3.286     1252.00          5.0\n",
      "CH         China    Beijing   9.597     1357.00          5.0\n",
      "SA  South Africa   Pretoria   1.221       52.98         12.0\n"
     ]
    }
   ],
   "source": [
    "print(brics)#En este ejemplo queda bien sin embargo es poco eficiente"
   ]
  },
  {
   "cell_type": "code",
   "execution_count": 18,
   "id": "2058a2d4",
   "metadata": {},
   "outputs": [
    {
     "name": "stdout",
     "output_type": "stream",
     "text": [
      "         country    capital    area  population  name_length\n",
      "BR        Brazil   Brasilia   8.516      200.40            6\n",
      "RU        Russia     Moscow  17.100      143.50            6\n",
      "IN         India  New Delhi   3.286     1252.00            5\n",
      "CH         China    Beijing   9.597     1357.00            5\n",
      "SA  South Africa   Pretoria   1.221       52.98           12\n"
     ]
    }
   ],
   "source": [
    "#Esta es otra manera de logralos\n",
    "brics[\"name_length\"]=brics[\"country\"].apply(len)\n",
    "print(brics)"
   ]
  },
  {
   "cell_type": "code",
   "execution_count": null,
   "id": "116375a4",
   "metadata": {},
   "outputs": [],
   "source": []
  }
 ],
 "metadata": {
  "kernelspec": {
   "display_name": "Python 3",
   "language": "python",
   "name": "python3"
  },
  "language_info": {
   "codemirror_mode": {
    "name": "ipython",
    "version": 3
   },
   "file_extension": ".py",
   "mimetype": "text/x-python",
   "name": "python",
   "nbconvert_exporter": "python",
   "pygments_lexer": "ipython3",
   "version": "3.10.6"
  }
 },
 "nbformat": 4,
 "nbformat_minor": 5
}
