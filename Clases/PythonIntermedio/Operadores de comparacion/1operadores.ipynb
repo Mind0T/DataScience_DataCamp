{
 "cells": [
  {
   "cell_type": "markdown",
   "id": "c90d8d93",
   "metadata": {},
   "source": [
    "## **Operadores de comparacion**"
   ]
  },
  {
   "cell_type": "markdown",
   "id": "4993dd7b",
   "metadata": {},
   "source": [
    "<div style=\"display:flex; justify-content:space-around;\">\n",
    "    <img src=\"./imagenes/1.jpg\" width=400/>\n",
    "</div>"
   ]
  },
  {
   "cell_type": "code",
   "execution_count": null,
   "id": "4dd0b492",
   "metadata": {},
   "outputs": [
    {
     "name": "stdout",
     "output_type": "stream",
     "text": [
      "[28.52893456 20.97505669 21.75028214 24.7473475  21.44127836]\n"
     ]
    }
   ],
   "source": [
    "import numpy as np\n",
    "np_altura=np.array([1.72,1.68,1.71,1.89,1.79])\n",
    "\n",
    "np_peso=np.array([84.4,59.2,63.6,88.4,68.7])\n",
    "imc=np_peso/np_altura**2\n",
    "print(imc)"
   ]
  },
  {
   "cell_type": "code",
   "execution_count": 6,
   "id": "e0af19d3",
   "metadata": {},
   "outputs": [
    {
     "data": {
      "text/plain": [
       "array([ True, False, False,  True, False])"
      ]
     },
     "execution_count": 6,
     "metadata": {},
     "output_type": "execute_result"
    }
   ],
   "source": [
    "imc>24"
   ]
  },
  {
   "cell_type": "code",
   "execution_count": 8,
   "id": "37ca69f1",
   "metadata": {},
   "outputs": [
    {
     "data": {
      "text/plain": [
       "array([28.52893456, 24.7473475 ])"
      ]
     },
     "execution_count": 8,
     "metadata": {},
     "output_type": "execute_result"
    }
   ],
   "source": [
    "imc[imc>24]"
   ]
  },
  {
   "cell_type": "code",
   "execution_count": null,
   "id": "3b69b776",
   "metadata": {},
   "outputs": [],
   "source": [
    "#Para usar operadores logicos en arreglos en lugar de usar and or not\n",
    "#? Existen logical_and(), logogical_or(), logical_not() "
   ]
  },
  {
   "cell_type": "code",
   "execution_count": 10,
   "id": "376571ce",
   "metadata": {},
   "outputs": [
    {
     "data": {
      "text/plain": [
       "array([False, False, False,  True, False])"
      ]
     },
     "execution_count": 10,
     "metadata": {},
     "output_type": "execute_result"
    }
   ],
   "source": [
    "np.logical_and(imc>24,imc<26)"
   ]
  },
  {
   "cell_type": "code",
   "execution_count": 11,
   "id": "840d948f",
   "metadata": {},
   "outputs": [
    {
     "data": {
      "text/plain": [
       "array([24.7473475])"
      ]
     },
     "execution_count": 11,
     "metadata": {},
     "output_type": "execute_result"
    }
   ],
   "source": [
    "imc[np.logical_and(imc>24,imc<26)]"
   ]
  },
  {
   "cell_type": "code",
   "execution_count": 14,
   "id": "4d2de1a3",
   "metadata": {},
   "outputs": [
    {
     "data": {
      "text/plain": [
       "array([ True,  True,  True, False,  True])"
      ]
     },
     "execution_count": 14,
     "metadata": {},
     "output_type": "execute_result"
    }
   ],
   "source": [
    "np.logical_or(imc<24,imc>26)"
   ]
  },
  {
   "cell_type": "code",
   "execution_count": 15,
   "id": "88325016",
   "metadata": {},
   "outputs": [
    {
     "data": {
      "text/plain": [
       "array([28.52893456, 20.97505669, 21.75028214, 21.44127836])"
      ]
     },
     "execution_count": 15,
     "metadata": {},
     "output_type": "execute_result"
    }
   ],
   "source": [
    "imc[np.logical_or(imc<24,imc>26)]"
   ]
  },
  {
   "cell_type": "code",
   "execution_count": null,
   "id": "6ffb9129",
   "metadata": {},
   "outputs": [],
   "source": []
  }
 ],
 "metadata": {
  "kernelspec": {
   "display_name": "Python 3",
   "language": "python",
   "name": "python3"
  },
  "language_info": {
   "codemirror_mode": {
    "name": "ipython",
    "version": 3
   },
   "file_extension": ".py",
   "mimetype": "text/x-python",
   "name": "python",
   "nbconvert_exporter": "python",
   "pygments_lexer": "ipython3",
   "version": "3.10.6"
  }
 },
 "nbformat": 4,
 "nbformat_minor": 5
}
