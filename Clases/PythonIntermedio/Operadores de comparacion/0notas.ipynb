{
 "cells": [
  {
   "cell_type": "markdown",
   "id": "65c66fcd",
   "metadata": {},
   "source": [
    "## **Notas**"
   ]
  },
  {
   "cell_type": "markdown",
   "id": "44238160",
   "metadata": {},
   "source": [
    "En se cap se hablo sobre\n",
    "<br>-Operadores de comparacion que ya te sabes\n",
    "<br>-Operadores logicos\n",
    "<br>-Operadores logicos para arreglos\n",
    "<br>-Sentencia if elif else\n",
    "<br>-Filtering pandas Data frames\n"
   ]
  },
  {
   "cell_type": "markdown",
   "id": "6ff849e3",
   "metadata": {},
   "source": []
  }
 ],
 "metadata": {
  "language_info": {
   "name": "python"
  }
 },
 "nbformat": 4,
 "nbformat_minor": 5
}
